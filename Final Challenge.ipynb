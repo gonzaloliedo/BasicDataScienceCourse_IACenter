{
 "cells": [
  {
   "cell_type": "markdown",
   "id": "646c33dd",
   "metadata": {},
   "source": [
    "# Final Challenge\n",
    "\n",
    "## Crear una narrativa con datos de la Encuesta Nacional de Inclusión Financiera (ENIF)\n",
    "\n",
    "## Importación de datos\n"
   ]
  },
  {
   "cell_type": "markdown",
   "id": "f3d8603e",
   "metadata": {},
   "source": [
    "- Leer los conjuntos de datos \"tmodulo\" y \"tsdem\"\n",
    "\n",
    "- Usar metodos de pandas para conocer su tipo de objeto para cada dataframe"
   ]
  },
  {
   "cell_type": "code",
   "execution_count": 5,
   "id": "c1ef2380",
   "metadata": {},
   "outputs": [
    {
     "name": "stdout",
     "output_type": "stream",
     "text": [
      "FOLIO      int64\n",
      "VIV_SEL    int64\n",
      "HOGAR      int64\n",
      "N_REN      int64\n",
      "P3_1_1     int64\n",
      "           ...  \n",
      "SEXO       int64\n",
      "EDAD       int64\n",
      "EST_DIS    int64\n",
      "UPM_DIS    int64\n",
      "FAC_ELE    int64\n",
      "Length: 382, dtype: object\n",
      "FOLIO        int64\n",
      "VIV_SEL      int64\n",
      "HOGAR        int64\n",
      "N_REN        int64\n",
      "P2_3         int64\n",
      "SEXO         int64\n",
      "EDAD         int64\n",
      "NIV        float64\n",
      "GRA        float64\n",
      "TLOC         int64\n",
      "REGION       int64\n",
      "EST_DIS      int64\n",
      "UPM_DIS      int64\n",
      "FAC_HOG      int64\n",
      "dtype: object\n"
     ]
    }
   ],
   "source": [
    "import pandas as pd\n",
    "\n",
    "ruta_tmodulo = \"data\\conjunto_de_datos_tmodulo_enif_2021\\conjunto_de_datos\\conjunto_de_datos_tmodulo_enif_2021.csv\"\n",
    "ruta_tsdem = \"data\\conjunto_de_datos_tsdem_enif_2021\\conjunto_de_datos\\conjunto_de_datos_tsdem_enif_2021.csv\"\n",
    "\n",
    "# Leer los archivos CSV en DataFrames\n",
    "tmodulo = pd.read_csv(ruta_tmodulo)\n",
    "tsdem = pd.read_csv(ruta_tsdem)\n",
    "\n",
    "# Tipo de objeto para tmodulo\n",
    "tipo_tmodulo = tmodulo.dtypes\n",
    "print(tipo_tmodulo)\n",
    "\n",
    "# Tipo de objeto para tsdem\n",
    "tipo_tsdem = tsdem.dtypes\n",
    "print(tipo_tsdem)"
   ]
  },
  {
   "cell_type": "markdown",
   "id": "e725b602",
   "metadata": {},
   "source": [
    "## Limpieza de datos\n",
    "\n",
    "- Leer los cátalogos a través de una funcion (deberá desarrollar esta funcion) para cada dataframe \"tmodulo\" y \"tsdem\""
   ]
  },
  {
   "cell_type": "code",
   "execution_count": 18,
   "id": "b5a56d52",
   "metadata": {},
   "outputs": [
    {
     "data": {
      "text/html": [
       "<div>\n",
       "<style scoped>\n",
       "    .dataframe tbody tr th:only-of-type {\n",
       "        vertical-align: middle;\n",
       "    }\n",
       "\n",
       "    .dataframe tbody tr th {\n",
       "        vertical-align: top;\n",
       "    }\n",
       "\n",
       "    .dataframe thead th {\n",
       "        text-align: right;\n",
       "    }\n",
       "</style>\n",
       "<table border=\"1\" class=\"dataframe\">\n",
       "  <thead>\n",
       "    <tr style=\"text-align: right;\">\n",
       "      <th></th>\n",
       "      <th>cve</th>\n",
       "      <th>descrip</th>\n",
       "    </tr>\n",
       "  </thead>\n",
       "  <tbody>\n",
       "    <tr>\n",
       "      <th>0</th>\n",
       "      <td>0</td>\n",
       "      <td>Menos de un año</td>\n",
       "    </tr>\n",
       "    <tr>\n",
       "      <th>1</th>\n",
       "      <td>01",
       "96</td>\n",
       "      <td>Años cumplidos</td>\n",
       "    </tr>\n",
       "    <tr>\n",
       "      <th>2</th>\n",
       "      <td>97</td>\n",
       "      <td>97 años y más</td>\n",
       "    </tr>\n",
       "    <tr>\n",
       "      <th>3</th>\n",
       "      <td>98</td>\n",
       "      <td>Edad no especificada en personas de 18 años y más</td>\n",
       "    </tr>\n",
       "    <tr>\n",
       "      <th>4</th>\n",
       "      <td>99</td>\n",
       "      <td>Otra edad no especificada</td>\n",
       "    </tr>\n",
       "  </tbody>\n",
       "</table>\n",
       "</div>"
      ],
      "text/plain": [
       "     cve                                            descrip\n",
       "0      0                                    Menos de un año\n",
       "1  01\n",
       "96                                     Años cumplidos\n",
       "2     97                                      97 años y más\n",
       "3     98  Edad no especificada en personas de 18 años y más\n",
       "4     99                          Otra edad no especificada"
      ]
     },
     "execution_count": 18,
     "metadata": {},
     "output_type": "execute_result"
    }
   ],
   "source": [
    "import os\n",
    "\n",
    "def leer_csv_en_carpeta(carpeta):\n",
    "\n",
    "    archivos_csv = [archivo for archivo in os.listdir(carpeta) if archivo.endswith('.csv')]\n",
    "    dataframes = {}\n",
    "    \n",
    "    for archivo in archivos_csv:\n",
    "        ruta_archivo = os.path.join(carpeta, archivo)\n",
    "        nombre = os.path.splitext(archivo)[0]  # Obtener el nombre sin la extensión .csv\n",
    "        dataframe = pd.read_csv(ruta_archivo,encoding='latin-1')\n",
    "        dataframes[nombre] = dataframe\n",
    "    \n",
    "    return dataframes\n",
    "\n",
    "# Ruta de la carpeta que contiene los archivos CSV\n",
    "ruta_tsdem = \"data\\conjunto_de_datos_tsdem_enif_2021\\catalogos\"\n",
    "ruta_tmodulo = \"data\\conjunto_de_datos_tmodulo_enif_2021\\catalogos\"\n",
    "\n",
    "# Usamos la función para leer los archivos CSV en la carpeta\n",
    "dataframes_tsdem = leer_csv_en_carpeta(ruta_tsdem)\n",
    "dataframes_tmodulo = leer_csv_en_carpeta(ruta_tmodulo)\n",
    "\n",
    "tsdem_edad = dataframes_tsdem ['edad']\n",
    "\n"
   ]
  },
  {
   "cell_type": "markdown",
   "id": "ff9164a5",
   "metadata": {},
   "source": [
    " - En el cátalogo \"edad\",remover las filas con el cve \"Años cumplidos\""
   ]
  },
  {
   "cell_type": "code",
   "execution_count": 25,
   "id": "3f705fae",
   "metadata": {},
   "outputs": [
    {
     "data": {
      "text/html": [
       "<div>\n",
       "<style scoped>\n",
       "    .dataframe tbody tr th:only-of-type {\n",
       "        vertical-align: middle;\n",
       "    }\n",
       "\n",
       "    .dataframe tbody tr th {\n",
       "        vertical-align: top;\n",
       "    }\n",
       "\n",
       "    .dataframe thead th {\n",
       "        text-align: right;\n",
       "    }\n",
       "</style>\n",
       "<table border=\"1\" class=\"dataframe\">\n",
       "  <thead>\n",
       "    <tr style=\"text-align: right;\">\n",
       "      <th></th>\n",
       "      <th>cve</th>\n",
       "      <th>descrip</th>\n",
       "    </tr>\n",
       "  </thead>\n",
       "  <tbody>\n",
       "    <tr>\n",
       "      <th>0</th>\n",
       "      <td>0</td>\n",
       "      <td>Menos de un año</td>\n",
       "    </tr>\n",
       "    <tr>\n",
       "      <th>2</th>\n",
       "      <td>97</td>\n",
       "      <td>97 años y más</td>\n",
       "    </tr>\n",
       "    <tr>\n",
       "      <th>3</th>\n",
       "      <td>98</td>\n",
       "      <td>Edad no especificada en personas de 18 años y más</td>\n",
       "    </tr>\n",
       "    <tr>\n",
       "      <th>4</th>\n",
       "      <td>99</td>\n",
       "      <td>Otra edad no especificada</td>\n",
       "    </tr>\n",
       "  </tbody>\n",
       "</table>\n",
       "</div>"
      ],
      "text/plain": [
       "  cve                                            descrip\n",
       "0   0                                    Menos de un año\n",
       "2  97                                      97 años y más\n",
       "3  98  Edad no especificada en personas de 18 años y más\n",
       "4  99                          Otra edad no especificada"
      ]
     },
     "execution_count": 25,
     "metadata": {},
     "output_type": "execute_result"
    }
   ],
   "source": [
    "# Remover las filas con 'cve' igual a \"Años cumplidos\"\n",
    "tsdem_edad = tsdem_edad[~tsdem_edad['descrip'].str.contains(\"Años cumplidos\")]\n",
    "\n",
    "tsdem_edad"
   ]
  },
  {
   "cell_type": "markdown",
   "id": "54f3611e",
   "metadata": {},
   "source": [
    "- En el catálogo tmodulo\n",
    "    - En el cátalogo \"edad\",remover las filas con el cve \"Años cumplidos\""
   ]
  },
  {
   "cell_type": "code",
   "execution_count": 27,
   "id": "451cf2a3",
   "metadata": {},
   "outputs": [
    {
     "data": {
      "text/html": [
       "<div>\n",
       "<style scoped>\n",
       "    .dataframe tbody tr th:only-of-type {\n",
       "        vertical-align: middle;\n",
       "    }\n",
       "\n",
       "    .dataframe tbody tr th {\n",
       "        vertical-align: top;\n",
       "    }\n",
       "\n",
       "    .dataframe thead th {\n",
       "        text-align: right;\n",
       "    }\n",
       "</style>\n",
       "<table border=\"1\" class=\"dataframe\">\n",
       "  <thead>\n",
       "    <tr style=\"text-align: right;\">\n",
       "      <th></th>\n",
       "      <th>cve</th>\n",
       "      <th>descrip</th>\n",
       "    </tr>\n",
       "  </thead>\n",
       "  <tbody>\n",
       "    <tr>\n",
       "      <th>0</th>\n",
       "      <td>0</td>\n",
       "      <td>Menos de un año</td>\n",
       "    </tr>\n",
       "    <tr>\n",
       "      <th>2</th>\n",
       "      <td>97</td>\n",
       "      <td>97 años y más</td>\n",
       "    </tr>\n",
       "    <tr>\n",
       "      <th>3</th>\n",
       "      <td>98</td>\n",
       "      <td>Edad no especificada en personas de 18 años y más</td>\n",
       "    </tr>\n",
       "    <tr>\n",
       "      <th>4</th>\n",
       "      <td>99</td>\n",
       "      <td>Otra edad no especificada</td>\n",
       "    </tr>\n",
       "  </tbody>\n",
       "</table>\n",
       "</div>"
      ],
      "text/plain": [
       "  cve                                            descrip\n",
       "0   0                                    Menos de un año\n",
       "2  97                                      97 años y más\n",
       "3  98  Edad no especificada en personas de 18 años y más\n",
       "4  99                          Otra edad no especificada"
      ]
     },
     "execution_count": 27,
     "metadata": {},
     "output_type": "execute_result"
    }
   ],
   "source": [
    "tmodulo_edad = dataframes_tmodulo ['edad']\n",
    "\n",
    "# Remover las filas con 'cve' igual a \"Años cumplidos\"\n",
    "tmodulo_edad = tmodulo_edad[~tmodulo_edad['descrip'].str.contains(\"Años cumplidos\")]\n",
    "\n",
    "tmodulo_edad"
   ]
  },
  {
   "cell_type": "markdown",
   "id": "9cc33e9d",
   "metadata": {},
   "source": [
    "- En el cátalogo \"p12_4\",remover las filas con el cve \"Meses\""
   ]
  },
  {
   "cell_type": "code",
   "execution_count": 28,
   "id": "fafba318",
   "metadata": {},
   "outputs": [
    {
     "data": {
      "text/html": [
       "<div>\n",
       "<style scoped>\n",
       "    .dataframe tbody tr th:only-of-type {\n",
       "        vertical-align: middle;\n",
       "    }\n",
       "\n",
       "    .dataframe tbody tr th {\n",
       "        vertical-align: top;\n",
       "    }\n",
       "\n",
       "    .dataframe thead th {\n",
       "        text-align: right;\n",
       "    }\n",
       "</style>\n",
       "<table border=\"1\" class=\"dataframe\">\n",
       "  <thead>\n",
       "    <tr style=\"text-align: right;\">\n",
       "      <th></th>\n",
       "      <th>cve</th>\n",
       "      <th>descrip</th>\n",
       "    </tr>\n",
       "  </thead>\n",
       "  <tbody>\n",
       "    <tr>\n",
       "      <th>1</th>\n",
       "      <td>88</td>\n",
       "      <td>Todavía no se recupera o sigue endeudada(o)</td>\n",
       "    </tr>\n",
       "  </tbody>\n",
       "</table>\n",
       "</div>"
      ],
      "text/plain": [
       "  cve                                      descrip\n",
       "1  88  Todavía no se recupera o sigue endeudada(o)"
      ]
     },
     "execution_count": 28,
     "metadata": {},
     "output_type": "execute_result"
    }
   ],
   "source": [
    "tmodulo_p12_4 = dataframes_tmodulo ['p12_4']\n",
    "\n",
    "# Remover las filas con 'cve' igual a \"Años cumplidos\"\n",
    "tmodulo_p12_4 = tmodulo_p12_4[~tmodulo_p12_4['descrip'].str.contains(\"Meses\")]\n",
    "\n",
    "tmodulo_p12_4"
   ]
  },
  {
   "cell_type": "markdown",
   "id": "7eff9dbc",
   "metadata": {},
   "source": [
    "- En el cátalogo \"p3_8a\",remover las filas con el cve \"Ingresos\""
   ]
  },
  {
   "cell_type": "code",
   "execution_count": 29,
   "id": "8b5492ba",
   "metadata": {},
   "outputs": [
    {
     "data": {
      "text/html": [
       "<div>\n",
       "<style scoped>\n",
       "    .dataframe tbody tr th:only-of-type {\n",
       "        vertical-align: middle;\n",
       "    }\n",
       "\n",
       "    .dataframe tbody tr th {\n",
       "        vertical-align: top;\n",
       "    }\n",
       "\n",
       "    .dataframe thead th {\n",
       "        text-align: right;\n",
       "    }\n",
       "</style>\n",
       "<table border=\"1\" class=\"dataframe\">\n",
       "  <thead>\n",
       "    <tr style=\"text-align: right;\">\n",
       "      <th></th>\n",
       "      <th>cve</th>\n",
       "      <th>descrip</th>\n",
       "    </tr>\n",
       "  </thead>\n",
       "  <tbody>\n",
       "    <tr>\n",
       "      <th>0</th>\n",
       "      <td>0</td>\n",
       "      <td>No recibe ingresos</td>\n",
       "    </tr>\n",
       "    <tr>\n",
       "      <th>2</th>\n",
       "      <td>98000</td>\n",
       "      <td>$98 000 y más</td>\n",
       "    </tr>\n",
       "    <tr>\n",
       "      <th>3</th>\n",
       "      <td>99888</td>\n",
       "      <td>No responde</td>\n",
       "    </tr>\n",
       "  </tbody>\n",
       "</table>\n",
       "</div>"
      ],
      "text/plain": [
       "     cve             descrip\n",
       "0      0  No recibe ingresos\n",
       "2  98000       $98 000 y más\n",
       "3  99888         No responde"
      ]
     },
     "execution_count": 29,
     "metadata": {},
     "output_type": "execute_result"
    }
   ],
   "source": [
    "tmodulo_p3_8a = dataframes_tmodulo ['p3_8a']\n",
    "\n",
    "# Remover las filas con 'cve' igual a \"Años cumplidos\"\n",
    "tmodulo_p3_8a = tmodulo_p3_8a[~tmodulo_p3_8a['descrip'].str.contains(\"Ingresos\")]\n",
    "\n",
    "tmodulo_p3_8a"
   ]
  },
  {
   "cell_type": "markdown",
   "id": "d4636347",
   "metadata": {},
   "source": [
    "- En el cátalogo \"p10_9_2\",remover las filas con el cve \"Minutos\""
   ]
  },
  {
   "cell_type": "code",
   "execution_count": 30,
   "id": "2fafe46a",
   "metadata": {},
   "outputs": [
    {
     "data": {
      "text/html": [
       "<div>\n",
       "<style scoped>\n",
       "    .dataframe tbody tr th:only-of-type {\n",
       "        vertical-align: middle;\n",
       "    }\n",
       "\n",
       "    .dataframe tbody tr th {\n",
       "        vertical-align: top;\n",
       "    }\n",
       "\n",
       "    .dataframe thead th {\n",
       "        text-align: right;\n",
       "    }\n",
       "</style>\n",
       "<table border=\"1\" class=\"dataframe\">\n",
       "  <thead>\n",
       "    <tr style=\"text-align: right;\">\n",
       "      <th></th>\n",
       "      <th>cve</th>\n",
       "      <th>descrip</th>\n",
       "    </tr>\n",
       "  </thead>\n",
       "  <tbody>\n",
       "    <tr>\n",
       "      <th>1</th>\n",
       "      <td>99</td>\n",
       "      <td>No sabe</td>\n",
       "    </tr>\n",
       "  </tbody>\n",
       "</table>\n",
       "</div>"
      ],
      "text/plain": [
       "  cve  descrip\n",
       "1  99  No sabe"
      ]
     },
     "execution_count": 30,
     "metadata": {},
     "output_type": "execute_result"
    }
   ],
   "source": [
    "tmodulo_p10_9_2 = dataframes_tmodulo ['p10_9_2']\n",
    "\n",
    "# Remover las filas con 'cve' igual a \"Años cumplidos\"\n",
    "tmodulo_p10_9_2 = tmodulo_p10_9_2[~tmodulo_p10_9_2['descrip'].str.contains(\"Minutos\")]\n",
    "\n",
    "tmodulo_p10_9_2"
   ]
  },
  {
   "cell_type": "markdown",
   "id": "ba71af5d",
   "metadata": {},
   "source": [
    "- En el cátalogo \"p5_12\",remover las filas con el cve \"Número de veces\""
   ]
  },
  {
   "cell_type": "code",
   "execution_count": 31,
   "id": "47bc44cc",
   "metadata": {},
   "outputs": [
    {
     "data": {
      "text/html": [
       "<div>\n",
       "<style scoped>\n",
       "    .dataframe tbody tr th:only-of-type {\n",
       "        vertical-align: middle;\n",
       "    }\n",
       "\n",
       "    .dataframe tbody tr th {\n",
       "        vertical-align: top;\n",
       "    }\n",
       "\n",
       "    .dataframe thead th {\n",
       "        text-align: right;\n",
       "    }\n",
       "</style>\n",
       "<table border=\"1\" class=\"dataframe\">\n",
       "  <thead>\n",
       "    <tr style=\"text-align: right;\">\n",
       "      <th></th>\n",
       "      <th>cve</th>\n",
       "      <th>descrip</th>\n",
       "    </tr>\n",
       "  </thead>\n",
       "  <tbody>\n",
       "    <tr>\n",
       "      <th>0</th>\n",
       "      <td>0</td>\n",
       "      <td>No la utiliza</td>\n",
       "    </tr>\n",
       "    <tr>\n",
       "      <th>2</th>\n",
       "      <td>88</td>\n",
       "      <td>Menos de una vez al mes</td>\n",
       "    </tr>\n",
       "  </tbody>\n",
       "</table>\n",
       "</div>"
      ],
      "text/plain": [
       "  cve                  descrip\n",
       "0   0            No la utiliza\n",
       "2  88  Menos de una vez al mes"
      ]
     },
     "execution_count": 31,
     "metadata": {},
     "output_type": "execute_result"
    }
   ],
   "source": [
    "tmodulo_p5_12 = dataframes_tmodulo ['p5_12']\n",
    "\n",
    "# Remover las filas con 'cve' igual a \"Años cumplidos\"\n",
    "tmodulo_p5_12 = tmodulo_p5_12[~tmodulo_p5_12['descrip'].str.contains(\"Número de veces\")]\n",
    "\n",
    "tmodulo_p5_12"
   ]
  },
  {
   "cell_type": "markdown",
   "id": "eacc33ff",
   "metadata": {},
   "source": [
    "- En el cátalogo \"p10_6_1\",remover las filas con el cve \"Horas\""
   ]
  },
  {
   "cell_type": "code",
   "execution_count": 32,
   "id": "b70606b8",
   "metadata": {},
   "outputs": [
    {
     "data": {
      "text/html": [
       "<div>\n",
       "<style scoped>\n",
       "    .dataframe tbody tr th:only-of-type {\n",
       "        vertical-align: middle;\n",
       "    }\n",
       "\n",
       "    .dataframe tbody tr th {\n",
       "        vertical-align: top;\n",
       "    }\n",
       "\n",
       "    .dataframe thead th {\n",
       "        text-align: right;\n",
       "    }\n",
       "</style>\n",
       "<table border=\"1\" class=\"dataframe\">\n",
       "  <thead>\n",
       "    <tr style=\"text-align: right;\">\n",
       "      <th></th>\n",
       "      <th>cve</th>\n",
       "      <th>descrip</th>\n",
       "    </tr>\n",
       "  </thead>\n",
       "  <tbody>\n",
       "    <tr>\n",
       "      <th>1</th>\n",
       "      <td>99</td>\n",
       "      <td>No sabe</td>\n",
       "    </tr>\n",
       "  </tbody>\n",
       "</table>\n",
       "</div>"
      ],
      "text/plain": [
       "  cve  descrip\n",
       "1  99  No sabe"
      ]
     },
     "execution_count": 32,
     "metadata": {},
     "output_type": "execute_result"
    }
   ],
   "source": [
    "tmodulo_p10_6_1 = dataframes_tmodulo ['p10_6_1']\n",
    "\n",
    "# Remover las filas con 'cve' igual a \"Años cumplidos\"\n",
    "tmodulo_p10_6_1 = tmodulo_p10_6_1[~tmodulo_p10_6_1['descrip'].str.contains(\"Horas\")]\n",
    "\n",
    "tmodulo_p10_6_1"
   ]
  },
  {
   "cell_type": "markdown",
   "id": "b88a995e",
   "metadata": {},
   "source": [
    "- En el cátalogo \"p10_9_1\",remover las filas con el cve \"Horas\""
   ]
  },
  {
   "cell_type": "code",
   "execution_count": 33,
   "id": "ea4a5189",
   "metadata": {},
   "outputs": [
    {
     "data": {
      "text/html": [
       "<div>\n",
       "<style scoped>\n",
       "    .dataframe tbody tr th:only-of-type {\n",
       "        vertical-align: middle;\n",
       "    }\n",
       "\n",
       "    .dataframe tbody tr th {\n",
       "        vertical-align: top;\n",
       "    }\n",
       "\n",
       "    .dataframe thead th {\n",
       "        text-align: right;\n",
       "    }\n",
       "</style>\n",
       "<table border=\"1\" class=\"dataframe\">\n",
       "  <thead>\n",
       "    <tr style=\"text-align: right;\">\n",
       "      <th></th>\n",
       "      <th>cve</th>\n",
       "      <th>descrip</th>\n",
       "    </tr>\n",
       "  </thead>\n",
       "  <tbody>\n",
       "    <tr>\n",
       "      <th>1</th>\n",
       "      <td>99</td>\n",
       "      <td>No sabe</td>\n",
       "    </tr>\n",
       "  </tbody>\n",
       "</table>\n",
       "</div>"
      ],
      "text/plain": [
       "  cve  descrip\n",
       "1  99  No sabe"
      ]
     },
     "execution_count": 33,
     "metadata": {},
     "output_type": "execute_result"
    }
   ],
   "source": [
    "tmodulo_p10_9_1 = dataframes_tmodulo ['p10_9_1']\n",
    "\n",
    "# Remover las filas con 'cve' igual a \"Años cumplidos\"\n",
    "tmodulo_p10_9_1 = tmodulo_p10_9_1[~tmodulo_p10_9_1['descrip'].str.contains(\"Horas\")]\n",
    "\n",
    "tmodulo_p10_9_1"
   ]
  },
  {
   "cell_type": "markdown",
   "id": "a22dc8e3",
   "metadata": {},
   "source": [
    "- En el cátalogo \"p10_3_1\",remover las filas con el cve \"Horas\""
   ]
  },
  {
   "cell_type": "code",
   "execution_count": 34,
   "id": "15720f14",
   "metadata": {},
   "outputs": [
    {
     "data": {
      "text/html": [
       "<div>\n",
       "<style scoped>\n",
       "    .dataframe tbody tr th:only-of-type {\n",
       "        vertical-align: middle;\n",
       "    }\n",
       "\n",
       "    .dataframe tbody tr th {\n",
       "        vertical-align: top;\n",
       "    }\n",
       "\n",
       "    .dataframe thead th {\n",
       "        text-align: right;\n",
       "    }\n",
       "</style>\n",
       "<table border=\"1\" class=\"dataframe\">\n",
       "  <thead>\n",
       "    <tr style=\"text-align: right;\">\n",
       "      <th></th>\n",
       "      <th>cve</th>\n",
       "      <th>descrip</th>\n",
       "    </tr>\n",
       "  </thead>\n",
       "  <tbody>\n",
       "    <tr>\n",
       "      <th>1</th>\n",
       "      <td>99</td>\n",
       "      <td>No sabe</td>\n",
       "    </tr>\n",
       "  </tbody>\n",
       "</table>\n",
       "</div>"
      ],
      "text/plain": [
       "  cve  descrip\n",
       "1  99  No sabe"
      ]
     },
     "execution_count": 34,
     "metadata": {},
     "output_type": "execute_result"
    }
   ],
   "source": [
    "tmodulo_p10_3_1 = dataframes_tmodulo ['p10_3_1']\n",
    "\n",
    "# Remover las filas con 'cve' igual a \"Años cumplidos\"\n",
    "tmodulo_p10_3_1 = tmodulo_p10_3_1[~tmodulo_p10_3_1['descrip'].str.contains(\"Horas\")]\n",
    "\n",
    "tmodulo_p10_3_1"
   ]
  },
  {
   "cell_type": "markdown",
   "id": "ce65c2fb",
   "metadata": {},
   "source": [
    "- En el cátalogo \"p10_6_2\",remover las filas con el cve \"Minutos\""
   ]
  },
  {
   "cell_type": "code",
   "execution_count": 35,
   "id": "4e528de2",
   "metadata": {},
   "outputs": [
    {
     "data": {
      "text/html": [
       "<div>\n",
       "<style scoped>\n",
       "    .dataframe tbody tr th:only-of-type {\n",
       "        vertical-align: middle;\n",
       "    }\n",
       "\n",
       "    .dataframe tbody tr th {\n",
       "        vertical-align: top;\n",
       "    }\n",
       "\n",
       "    .dataframe thead th {\n",
       "        text-align: right;\n",
       "    }\n",
       "</style>\n",
       "<table border=\"1\" class=\"dataframe\">\n",
       "  <thead>\n",
       "    <tr style=\"text-align: right;\">\n",
       "      <th></th>\n",
       "      <th>cve</th>\n",
       "      <th>descrip</th>\n",
       "    </tr>\n",
       "  </thead>\n",
       "  <tbody>\n",
       "    <tr>\n",
       "      <th>1</th>\n",
       "      <td>99</td>\n",
       "      <td>No sabe</td>\n",
       "    </tr>\n",
       "  </tbody>\n",
       "</table>\n",
       "</div>"
      ],
      "text/plain": [
       "  cve  descrip\n",
       "1  99  No sabe"
      ]
     },
     "execution_count": 35,
     "metadata": {},
     "output_type": "execute_result"
    }
   ],
   "source": [
    "tmodulo_p10_6_2 = dataframes_tmodulo ['p10_6_2']\n",
    "\n",
    "# Remover las filas con 'cve' igual a \"Años cumplidos\"\n",
    "tmodulo_p10_6_2 = tmodulo_p10_6_2[~tmodulo_p10_6_2['descrip'].str.contains(\"Minutos\")]\n",
    "\n",
    "tmodulo_p10_6_2"
   ]
  },
  {
   "cell_type": "markdown",
   "id": "3fbadc90",
   "metadata": {},
   "source": [
    "- En el cátalogo \"p6_9\",remover las filas con el cve \"Número de veces\""
   ]
  },
  {
   "cell_type": "code",
   "execution_count": 36,
   "id": "4d62cba2",
   "metadata": {},
   "outputs": [
    {
     "data": {
      "text/html": [
       "<div>\n",
       "<style scoped>\n",
       "    .dataframe tbody tr th:only-of-type {\n",
       "        vertical-align: middle;\n",
       "    }\n",
       "\n",
       "    .dataframe tbody tr th {\n",
       "        vertical-align: top;\n",
       "    }\n",
       "\n",
       "    .dataframe thead th {\n",
       "        text-align: right;\n",
       "    }\n",
       "</style>\n",
       "<table border=\"1\" class=\"dataframe\">\n",
       "  <thead>\n",
       "    <tr style=\"text-align: right;\">\n",
       "      <th></th>\n",
       "      <th>cve</th>\n",
       "      <th>descrip</th>\n",
       "    </tr>\n",
       "  </thead>\n",
       "  <tbody>\n",
       "    <tr>\n",
       "      <th>0</th>\n",
       "      <td>0</td>\n",
       "      <td>No la utiliza</td>\n",
       "    </tr>\n",
       "    <tr>\n",
       "      <th>2</th>\n",
       "      <td>88</td>\n",
       "      <td>Menos de una vez al mes</td>\n",
       "    </tr>\n",
       "  </tbody>\n",
       "</table>\n",
       "</div>"
      ],
      "text/plain": [
       "  cve                  descrip\n",
       "0   0            No la utiliza\n",
       "2  88  Menos de una vez al mes"
      ]
     },
     "execution_count": 36,
     "metadata": {},
     "output_type": "execute_result"
    }
   ],
   "source": [
    "tmodulo_p6_9 = dataframes_tmodulo ['p6_9']\n",
    "\n",
    "# Remover las filas con 'cve' igual a \"Años cumplidos\"\n",
    "tmodulo_p6_9 = tmodulo_p6_9[~tmodulo_p6_9['descrip'].str.contains(\"Número de veces\")]\n",
    "\n",
    "tmodulo_p6_9"
   ]
  },
  {
   "cell_type": "markdown",
   "id": "ccee669e",
   "metadata": {},
   "source": [
    "- En el cátalogo \"p10_3_2\",remover las filas con el cve \"Minutos\""
   ]
  },
  {
   "cell_type": "code",
   "execution_count": 37,
   "id": "3b6f727b",
   "metadata": {},
   "outputs": [
    {
     "data": {
      "text/html": [
       "<div>\n",
       "<style scoped>\n",
       "    .dataframe tbody tr th:only-of-type {\n",
       "        vertical-align: middle;\n",
       "    }\n",
       "\n",
       "    .dataframe tbody tr th {\n",
       "        vertical-align: top;\n",
       "    }\n",
       "\n",
       "    .dataframe thead th {\n",
       "        text-align: right;\n",
       "    }\n",
       "</style>\n",
       "<table border=\"1\" class=\"dataframe\">\n",
       "  <thead>\n",
       "    <tr style=\"text-align: right;\">\n",
       "      <th></th>\n",
       "      <th>cve</th>\n",
       "      <th>descrip</th>\n",
       "    </tr>\n",
       "  </thead>\n",
       "  <tbody>\n",
       "    <tr>\n",
       "      <th>1</th>\n",
       "      <td>99</td>\n",
       "      <td>No sabe</td>\n",
       "    </tr>\n",
       "  </tbody>\n",
       "</table>\n",
       "</div>"
      ],
      "text/plain": [
       "  cve  descrip\n",
       "1  99  No sabe"
      ]
     },
     "execution_count": 37,
     "metadata": {},
     "output_type": "execute_result"
    }
   ],
   "source": [
    "tmodulo_p10_3_2 = dataframes_tmodulo ['p10_3_2']\n",
    "\n",
    "# Remover las filas con 'cve' igual a \"Años cumplidos\"\n",
    "tmodulo_p10_3_2 = tmodulo_p10_3_2[~tmodulo_p10_3_2['descrip'].str.contains(\"Minutos\")]\n",
    "\n",
    "tmodulo_p10_3_2"
   ]
  },
  {
   "cell_type": "markdown",
   "id": "9bef8f2c",
   "metadata": {},
   "source": [
    "- Remplazar los valores numéricos con los valores categóricos proporcionados por los cátalogos a través de una *funcion*"
   ]
  },
  {
   "cell_type": "code",
   "execution_count": null,
   "id": "a2f773fd",
   "metadata": {},
   "outputs": [],
   "source": []
  }
 ],
 "metadata": {
  "kernelspec": {
   "display_name": "Python 3 (ipykernel)",
   "language": "python",
   "name": "python3"
  },
  "language_info": {
   "codemirror_mode": {
    "name": "ipython",
    "version": 3
   },
   "file_extension": ".py",
   "mimetype": "text/x-python",
   "name": "python",
   "nbconvert_exporter": "python",
   "pygments_lexer": "ipython3",
   "version": "3.9.12"
  }
 },
 "nbformat": 4,
 "nbformat_minor": 5
}
